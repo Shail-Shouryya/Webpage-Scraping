{
 "cells": [
  {
   "cell_type": "code",
   "execution_count": 1,
   "metadata": {},
   "outputs": [],
   "source": [
    "# Dependencies\n",
    "from bs4 import BeautifulSoup as bs\n",
    "import requests\n",
    "from splinter import Browser\n",
    "# initialize splinter browser to use right away\n",
    "executable_path = {'executable_path': 'chromedriver.exe'}\n",
    "browser = Browser('chrome', **executable_path, headless=False)\n",
    "import pandas as pd"
   ]
  },
  {
   "cell_type": "markdown",
   "metadata": {},
   "source": [
    "# NASA Mars News"
   ]
  },
  {
   "cell_type": "code",
   "execution_count": 2,
   "metadata": {},
   "outputs": [],
   "source": [
    "# URL of page to be scraped\n",
    "news_url = 'https://mars.nasa.gov/news/'\n",
    "#url = 'https://mars.nasa.gov/news/?page=0&per_page=40&order=publish_date+desc%2Ccreated_at+desc&search=&category=19%2C165%2C184%2C204&blank_scope=Latest'\n",
    "\n",
    "# Retrieve page with the requests module\n",
    "# this didn't yield all the articles\n",
    "# response = requests.get(url)\n",
    "# Create BeautifulSoup object; parse with 'html.parser'\n",
    "# soup = bs(response.text, 'html.parser')\n",
    "\n",
    "# doing the following did yield all the articles\n",
    "browser.visit(news_url)\n",
    "html = browser.html\n",
    "# Create BeautifulSoup object; parse with 'html.parser'\n",
    "newsSoup = bs(html, 'html.parser')"
   ]
  },
  {
   "cell_type": "code",
   "execution_count": 3,
   "metadata": {},
   "outputs": [],
   "source": [
    "# Examine the results, then determine element that contains sought info\n",
    "#print(webpageSoup.prettify())"
   ]
  },
  {
   "cell_type": "code",
   "execution_count": 4,
   "metadata": {},
   "outputs": [
    {
     "data": {
      "text/plain": [
       "[<h3>Five Things to Know About InSight's Mars Landing</h3>,\n",
       " <h3>NASA Launches a New Podcast to Mars</h3>,\n",
       " <h3>Update on Opportunity Rover Recovery Efforts</h3>,\n",
       " <h3>Third ASPIRE Test Confirms Mars 2020 Parachute a Go</h3>,\n",
       " <h3>NASA to Host Briefing on November Mars InSight Landing</h3>,\n",
       " <h3>NASA's InSight Will Study Mars While Standing Still</h3>,\n",
       " <h3>NASA's First Image of Mars from a CubeSat</h3>,\n",
       " <h3>The 'Claw Game' on Mars: NASA InSight Plays to Win</h3>,\n",
       " <h3>Scientists to Debate Landing Site for Next Mars Rover</h3>,\n",
       " <h3>Mars Virtual Reality Software Wins NASA Award</h3>,\n",
       " <h3>Painting Cars for Mars</h3>,\n",
       " <h3>Curiosity Rover to Temporarily Switch 'Brains'</h3>,\n",
       " <h3>Opportunity Emerges in a Dusty Picture</h3>,\n",
       " <h3>NASA Seeking Partner in Contest to Name Next Mars Rover</h3>,\n",
       " <h3>NASA's MAVEN Selfie Marks Four Years in Orbit at Mars</h3>,\n",
       " <h3>MarCO Makes Space for Small Explorers</h3>,\n",
       " <h3>Curiosity Surveys a Mystery Under Dusty Skies</h3>,\n",
       " <h3>NASA's InSight Has a Thermometer for Mars</h3>,\n",
       " <h3>Digital Creators: Apply for NASA Mars Landing Event</h3>,\n",
       " <h3>NASA's InSight Passes Halfway to Mars, Instruments Check In</h3>,\n",
       " <h3>Six Things About Opportunity's Recovery Efforts</h3>,\n",
       " <h3>Meet the People Behind NASA's InSight Mars Lander</h3>,\n",
       " <h3>Mars Terraforming Not Possible Using Present-Day Technology</h3>,\n",
       " <h3>Opportunity Hunkers Down During Dust Storm</h3>,\n",
       " <h3>NASA Statement on Possible Subsurface Lake near Martian South Pole</h3>,\n",
       " <h3>JPL's 'Martians' Are Coming to Griffith Observatory</h3>,\n",
       " <h3>NASA's MAVEN Spacecraft Finds That 'Stolen' Electrons Enable Unusual Aurora on Mars</h3>,\n",
       " <h3>'Storm Chasers' on Mars Searching for Dusty Secrets</h3>,\n",
       " <h3>NASA Mars Mission Adds Southern California Dates</h3>,\n",
       " <h3>Curiosity Captures Photos of Thickening Dust</h3>,\n",
       " <h3>NASA Encounters the Perfect Storm for Science</h3>,\n",
       " <h3>Media Telecon About Mars Dust Storm, Opportunity</h3>,\n",
       " <h3>NASA Finds Ancient Organic Material, Mysterious Methane on Mars</h3>,\n",
       " <h3>NASA to Host Live Discussion on New Mars Science Results</h3>,\n",
       " <h3>Mars Curiosity's Labs Are Back in Action</h3>,\n",
       " <h3>NASA CubeSats Steer Toward Mars</h3>,\n",
       " <h3>Scientists Shrink Chemistry Lab to Seek Evidence of Life on Mars</h3>,\n",
       " <h3>InSight Steers Toward Mars</h3>,\n",
       " <h3>Drilling Success: Curiosity is Collecting Mars Rocks</h3>,\n",
       " <h3>NASA's Curiosity Rover Aims to Get Its Rhythm Back</h3>]"
      ]
     },
     "execution_count": 4,
     "metadata": {},
     "output_type": "execute_result"
    }
   ],
   "source": [
    "# results are returned as an iterable list\n",
    "# title_results = bs.find_all('div', class_=\"content_title\") #does not return a list of strings, but rather a list of objects that we can call further methods on\n",
    "# title_results\n",
    "\n",
    "title_results = bs.find_all(newsSoup, 'h3', class_=None)\n",
    "title_results"
   ]
  },
  {
   "cell_type": "code",
   "execution_count": 5,
   "metadata": {},
   "outputs": [
    {
     "data": {
      "text/plain": [
       "\"Five Things to Know About InSight's Mars Landing\""
      ]
     },
     "execution_count": 5,
     "metadata": {},
     "output_type": "execute_result"
    }
   ],
   "source": [
    "first_article_title = title_results[0].text.strip()\n",
    "first_article_title"
   ]
  },
  {
   "cell_type": "code",
   "execution_count": 6,
   "metadata": {
    "scrolled": true
   },
   "outputs": [
    {
     "data": {
      "text/plain": [
       "[<div class=\"article_teaser_body\">NASA engineers will be holding their breath when their spacecraft heads into Mars' atmosphere on Nov. 26.</div>,\n",
       " <div class=\"article_teaser_body\">NASA's new eight-episode series 'On a Mission' follows the InSight spacecraft on its journey to Mars and details the extraordinary challenges of landing on the Red Planet.</div>,\n",
       " <div class=\"article_teaser_body\">After a review of the progress of the listening campaign, NASA will continue its current strategy for attempting to make contact with the Opportunity rover for the foreseeable future.</div>,\n",
       " <div class=\"article_teaser_body\">The supersonic parachute that will handle the heaviest payload yet to the Red Planet – Mars 2020 rover – passes its final sounding rocket test with flying colors.</div>,\n",
       " <div class=\"article_teaser_body\">A briefing on NASA's upcoming InSight Mars landing will air on Wed. Oct. 31 at 1:30 p.m. EDT (10:30 a.m. PDT) on NASA TV, the agency's website and NASA InSight Facebook Page.</div>,\n",
       " <div class=\"article_teaser_body\">The lander's unique science can teach us how planets are born.</div>,\n",
       " <div class=\"article_teaser_body\">The image was produced by one of the twin briefcase-sized MarCO spacecraft, the first CubeSats to fly to deep space.</div>,\n",
       " <div class=\"article_teaser_body\">NASA's InSight lander will be the first mission to use a robotic arm to grasp instruments from the spacecraft and place them on the surface of another planet. </div>,\n",
       " <div class=\"article_teaser_body\">Hundreds of scientists and Mars-exploration enthusiasts gather this week to present, discuss and deliberate the future landing site for NASA's next Red Planet. </div>,\n",
       " <div class=\"article_teaser_body\">A mixed-reality software that allows scientists and engineers to virtually walk on Mars has received NASA's 2018 Software of the Year Award.</div>,\n",
       " <div class=\"article_teaser_body\">What does NASA do to get a rover ready for Mars? JPL's paint shop does a thousand different paint jobs a year. And while every piece of spacecraft that comes through the shop is important, one headed for the Red Planet adds a little extra oomph.</div>,\n",
       " <div class=\"article_teaser_body\">NASA engineers are switching over to Curiosity's spare computer to diagnose a technical issue.</div>,\n",
       " <div class=\"article_teaser_body\">NASA still hasn't heard from the Opportunity rover, but at least the agency can see it again.</div>,\n",
       " <div class=\"article_teaser_body\">NASA has a class assignment for corporations, nonprofits and educational organizations involved in science and space exploration: partner with the agency to inspire future engineers and scientists by sponsoring a contest to name the next rover to venture to the Red Planet.</div>,\n",
       " <div class=\"article_teaser_body\">NASA’s MAVEN spacecraft celebrates four years in Mars orbit with a selfie.</div>,\n",
       " <div class=\"article_teaser_body\">A pair of NASA CubeSats flying to Mars are opening a new frontier for small spacecraft.</div>,\n",
       " <div class=\"article_teaser_body\">NASA's Curiosity rover surveyed its surroundings on Mars, producing a 360-degree panorama of its current location on Vera Rubin Ridge.</div>,\n",
       " <div class=\"article_teaser_body\">The mission's heat probe could reveal how the planet's towering volcanoes formed.</div>,\n",
       " <div class=\"article_teaser_body\">Up to 30 multimedia participants will be selected for a special two-day event at JPL culminating in the InSight spacecraft's landing on Mars. Apply by Sept. 3.</div>,\n",
       " <div class=\"article_teaser_body\">NASA's InSight spacecraft, en route to a Nov. 26 landing on Mars, passed the halfway mark on Aug. 6. All of its instruments have been tested and are working well.</div>,\n",
       " <div class=\"article_teaser_body\">The global dust storm on Mars could soon let in enough sunlight for the Opportunity rover to recharge.</div>,\n",
       " <div class=\"article_teaser_body\">A series of NASA videos highlight scientists and engineers leading the next mission to Mars.</div>,\n",
       " <div class=\"article_teaser_body\">Transforming the inhospitable Martian environment into a place astronauts could explore without life support is not possible without technology well beyond today’s capabilities.</div>,\n",
       " <div class=\"article_teaser_body\">It's the beginning of the end for the planet-encircling dust storm on Mars. But it could still be weeks, or even months, before skies are clear enough for NASA's Opportunity rover to recharge its batteries and phone home. </div>,\n",
       " <div class=\"article_teaser_body\">A new paper suggests that liquid water may be sitting under a layer of ice at Mars' south pole.</div>,\n",
       " <div class=\"article_teaser_body\">On July 30, when Mars and Earth are closer than they've been since 2003, JPL scientists and engineers will be at a free public event at Griffith Observatory in Los Angeles.</div>,\n",
       " <div class=\"article_teaser_body\">Auroras appear on Earth as ghostly displays of colorful light in the night sky, usually near the poles.</div>,\n",
       " <div class=\"article_teaser_body\">Scientists with NASA's Mars orbiters have been waiting years for an event like the current Mars global dust storm.</div>,\n",
       " <div class=\"article_teaser_body\">Looking for summer fun? Southern California families have their choice of the beach, movies, museums -- and even NASA's next mission to Mars.</div>,\n",
       " <div class=\"article_teaser_body\">A storm of tiny dust particles has engulfed much of Mars over the last two weeks.</div>,\n",
       " <div class=\"article_teaser_body\">One of the most intense Martian dust storms ever observed is being studied by a record number of NASA spacecraft.</div>,\n",
       " <div class=\"article_teaser_body\">NASA will host a media telecon on Wednesday, June 13, about a massive Martian dust storm affecting the Opportunity rover, and how various missions can obtain unique science.</div>,\n",
       " <div class=\"article_teaser_body\">NASA’s Curiosity rover has found evidence on Mars with implications for NASA’s search for life.</div>,\n",
       " <div class=\"article_teaser_body\">Questions are welcome during a live discussion at 11 a.m. PDT (2 p.m. EDT) Thursday, June 7, on new science results from NASA's Mars Curiosity rover.</div>,\n",
       " <div class=\"article_teaser_body\">NASA's Curiosity rover is analyzing drilled samples on Mars in one of its onboard labs for the first time in more than a year.</div>,\n",
       " <div class=\"article_teaser_body\">NASA has achieved a first for the class of tiny spacecraft known as CubeSats, which are opening new access to space.</div>,\n",
       " <div class=\"article_teaser_body\">An international team of scientists has created a tiny chemistry lab for a rover that will drill beneath the Martian surface looking for signs of past or present life.</div>,\n",
       " <div class=\"article_teaser_body\">The spacecraft has completed its first trajectory correction maneuver.</div>,\n",
       " <div class=\"article_teaser_body\">Engineers will now test delivering samples to instruments inside NASA's Curiosity Mars rover.</div>,\n",
       " <div class=\"article_teaser_body\">Rover engineers at JPL will try to restore percussive drilling on Mars this week, part of a larger series of tests that will last through summer.</div>]"
      ]
     },
     "execution_count": 6,
     "metadata": {},
     "output_type": "execute_result"
    }
   ],
   "source": [
    "# these didn't yield the proper results\n",
    "# results are returned as an iterable list \n",
    "# paragraph_results = bs.findall('div', class=\"rollover_description_inner\") #does not return a list of strings, but rather a list of objects that we can call further methods on \n",
    "\n",
    "# this worked better\n",
    "paragraph_results = bs.find_all(newsSoup, 'div', class_='article_teaser_body')\n",
    "paragraph_results"
   ]
  },
  {
   "cell_type": "code",
   "execution_count": 7,
   "metadata": {},
   "outputs": [
    {
     "data": {
      "text/plain": [
       "\"NASA engineers will be holding their breath when their spacecraft heads into Mars' atmosphere on Nov. 26.\""
      ]
     },
     "execution_count": 7,
     "metadata": {},
     "output_type": "execute_result"
    }
   ],
   "source": [
    "first_article_description = paragraph_results[0].text.strip()\n",
    "first_article_description"
   ]
  },
  {
   "cell_type": "markdown",
   "metadata": {},
   "source": [
    "# JPL Mars Space Images - Featured Image"
   ]
  },
  {
   "cell_type": "code",
   "execution_count": 8,
   "metadata": {},
   "outputs": [],
   "source": [
    "JPL_url = 'https://www.jpl.nasa.gov/spaceimages/?search=&category=Mars'\n",
    "browser.visit(JPL_url)\n",
    "html = browser.html\n",
    "# Create BeautifulSoup object; parse with 'html.parser'\n",
    "JPLSoup = bs(html, 'html.parser')\n",
    "#print (webpageSoup)"
   ]
  },
  {
   "cell_type": "code",
   "execution_count": 9,
   "metadata": {},
   "outputs": [
    {
     "name": "stdout",
     "output_type": "stream",
     "text": [
      "\n",
      "\t\t\t\t  Neptune - True Color of Clouds\t\t\t\t\n",
      "This image of the blue-hued Neptune was taken by NASA's Voyager 2; small trails of similar clouds trending east to west and large scale structure east of the Great Dark Spot all suggest that waves are present in the atmosphere and play a large role.\n",
      "https://www.jpl.nasa.gov/spaceimages/images/largesize/PIA00063_hires.jpg\n"
     ]
    }
   ],
   "source": [
    "main_image = JPLSoup.find('div', class_='carousel_items')\n",
    "main_image\n",
    "\n",
    "# get image title and its description\n",
    "featured_image_title = bs.find(JPLSoup, 'h1', class_='media_feature_title').get_text()\n",
    "featured_image_description = bs.find(JPLSoup, 'a', class_='button fancybox').get('data-description')\n",
    "print (featured_image_title)\n",
    "print (featured_image_description)\n",
    "\n",
    "# make the url for the featured image\n",
    "featured_image_url = bs.find(JPLSoup, 'a', class_='button fancybox').get('data-fancybox-href')\n",
    "featured_image_filename = featured_image_url.split('/')[4].split('_')[0]\n",
    "featured_image_url = f'https://www.jpl.nasa.gov/spaceimages/images/largesize/{featured_image_filename}_hires.jpg'\n",
    "#print(featured_url)\n",
    "#print (featured_filename)\n",
    "print (featured_image_url)"
   ]
  },
  {
   "cell_type": "markdown",
   "metadata": {},
   "source": [
    "# Mars Facts"
   ]
  },
  {
   "cell_type": "code",
   "execution_count": 10,
   "metadata": {},
   "outputs": [],
   "source": [
    "twitter_url = 'https://twitter.com/marswxreport?lang=en'\n",
    "browser.visit(twitter_url)\n",
    "html = browser.html\n",
    "# Create BeautifulSoup object; parse with 'html.parser'\n",
    "twitterSoup = bs(html, 'html.parser')\n",
    "#print (webpageSoup)"
   ]
  },
  {
   "cell_type": "code",
   "execution_count": 11,
   "metadata": {},
   "outputs": [
    {
     "data": {
      "text/html": [
       "<div>\n",
       "<style scoped>\n",
       "    .dataframe tbody tr th:only-of-type {\n",
       "        vertical-align: middle;\n",
       "    }\n",
       "\n",
       "    .dataframe tbody tr th {\n",
       "        vertical-align: top;\n",
       "    }\n",
       "\n",
       "    .dataframe thead th {\n",
       "        text-align: right;\n",
       "    }\n",
       "</style>\n",
       "<table border=\"1\" class=\"dataframe\">\n",
       "  <thead>\n",
       "    <tr style=\"text-align: right;\">\n",
       "      <th></th>\n",
       "      <th>Current Weather on Mars</th>\n",
       "    </tr>\n",
       "  </thead>\n",
       "  <tbody>\n",
       "    <tr>\n",
       "      <th>Mars date</th>\n",
       "      <td>Sol 2213</td>\n",
       "    </tr>\n",
       "    <tr>\n",
       "      <th>Earth date</th>\n",
       "      <td>2018-10-27</td>\n",
       "    </tr>\n",
       "    <tr>\n",
       "      <th>Current weather</th>\n",
       "      <td>2213</td>\n",
       "    </tr>\n",
       "    <tr>\n",
       "      <th>High temperature</th>\n",
       "      <td>-12C/10F</td>\n",
       "    </tr>\n",
       "    <tr>\n",
       "      <th>Low Temperature</th>\n",
       "      <td>-70C/-93F</td>\n",
       "    </tr>\n",
       "    <tr>\n",
       "      <th>Pressure</th>\n",
       "      <td>8.74 hPa</td>\n",
       "    </tr>\n",
       "    <tr>\n",
       "      <th>Daylight</th>\n",
       "      <td>06:11-18:29</td>\n",
       "    </tr>\n",
       "  </tbody>\n",
       "</table>\n",
       "</div>"
      ],
      "text/plain": [
       "                 Current Weather on Mars\n",
       "Mars date                      Sol 2213 \n",
       "Earth date                    2018-10-27\n",
       "Current weather                     2213\n",
       "High temperature                -12C/10F\n",
       "Low Temperature                -70C/-93F\n",
       "Pressure                        8.74 hPa\n",
       "Daylight                     06:11-18:29"
      ]
     },
     "execution_count": 11,
     "metadata": {},
     "output_type": "execute_result"
    }
   ],
   "source": [
    "tweet = 'TweetTextSize TweetTextSize--normal js-tweet-text tweet-text'\n",
    "\n",
    "# extract text from most recent Martian weather tweet\n",
    "recent_weather_tweet = bs.find_all(twitterSoup, 'p', class_= tweet)[0].get_text()\n",
    "#print (recent_weather_tweet) \n",
    "# ^^^^^^^ this is all we need, everything below is to make data more organized\n",
    "\n",
    "# split the string to break it into parts that can be added to dataframe\n",
    "splitting_recent_weather = recent_weather_tweet.split(',')\n",
    "#for i in splitting_recent_weather:\n",
    " #   splitting_recent_weather = i.split(' ')\n",
    "#print (splitting_recent_weather)\n",
    "\n",
    "#use list comprehension rather than for loop to create a list with the fields we need\n",
    "splitting_recent_weather = [data.split(' ') for data in splitting_recent_weather][:]\n",
    "\n",
    "# create dictionary to turn into a dataframe to make output neat and organized\n",
    "weather_dictionary = {'Mars date': f'{recent_weather_tweet.split(\"(\")[0]}',\n",
    "                'Earth date': f'{recent_weather_tweet.split(\"(\")[1].split(\")\")[0]}',\n",
    "                'Current weather': f'{splitting_recent_weather[0][1]}',\n",
    "                'High temperature': f'{splitting_recent_weather[1][2]}',\n",
    "                'Low Temperature': f'{splitting_recent_weather[2][2]}',\n",
    "                'Pressure': f'{splitting_recent_weather[3][3]} {splitting_recent_weather[3][4]}',\n",
    "                'Daylight': f'{splitting_recent_weather[4][2]}'}\n",
    "# got a ValueError: If using all scalar values, you must pass an index when doing:\n",
    "# weather_df = pd.DataFrame.from_dict(weather_dict)\n",
    "# using orient='index' solved the ValueError\n",
    "weather_df = pd.DataFrame.from_dict(weather_dictionary, orient='index')\n",
    "weather_df = weather_df.rename(columns={0:'Current Weather on Mars'})\n",
    "weather_df\n",
    "#print (recent_weather_tweet)\n",
    "#print (splitting_recent_weather)\n",
    "#print (weather_df)"
   ]
  },
  {
   "cell_type": "markdown",
   "metadata": {},
   "source": [
    "# Mars Facts"
   ]
  },
  {
   "cell_type": "code",
   "execution_count": 12,
   "metadata": {},
   "outputs": [],
   "source": [
    "mars_facts_url = 'https://space-facts.com/mars/'\n",
    "browser.visit(mars_facts_url)\n",
    "html = browser.html\n",
    "# Create BeautifulSoup object; parse with 'html.parser'\n",
    "marsFactsSoup = bs(html, 'html.parser')\n",
    "#print (webpageSoup)"
   ]
  },
  {
   "cell_type": "code",
   "execution_count": 13,
   "metadata": {},
   "outputs": [
    {
     "data": {
      "text/html": [
       "<div>\n",
       "<style scoped>\n",
       "    .dataframe tbody tr th:only-of-type {\n",
       "        vertical-align: middle;\n",
       "    }\n",
       "\n",
       "    .dataframe tbody tr th {\n",
       "        vertical-align: top;\n",
       "    }\n",
       "\n",
       "    .dataframe thead th {\n",
       "        text-align: right;\n",
       "    }\n",
       "</style>\n",
       "<table border=\"1\" class=\"dataframe\">\n",
       "  <thead>\n",
       "    <tr style=\"text-align: right;\">\n",
       "      <th></th>\n",
       "      <th>Mars Fun Facts</th>\n",
       "    </tr>\n",
       "  </thead>\n",
       "  <tbody>\n",
       "    <tr>\n",
       "      <th>Equatorial Diameter:</th>\n",
       "      <td>6,792 km\\n</td>\n",
       "    </tr>\n",
       "    <tr>\n",
       "      <th>Polar Diameter:</th>\n",
       "      <td>6,752 km\\n</td>\n",
       "    </tr>\n",
       "    <tr>\n",
       "      <th>Mass:</th>\n",
       "      <td>6.42 x 10^23 kg (10.7% Earth)</td>\n",
       "    </tr>\n",
       "    <tr>\n",
       "      <th>Moons:</th>\n",
       "      <td>2 (Phobos &amp; Deimos)</td>\n",
       "    </tr>\n",
       "    <tr>\n",
       "      <th>Orbit Distance:</th>\n",
       "      <td>227,943,824 km (1.52 AU)</td>\n",
       "    </tr>\n",
       "    <tr>\n",
       "      <th>Orbit Period:</th>\n",
       "      <td>687 days (1.9 years)\\n</td>\n",
       "    </tr>\n",
       "    <tr>\n",
       "      <th>Surface Temperature:</th>\n",
       "      <td>-153 to 20 °C</td>\n",
       "    </tr>\n",
       "    <tr>\n",
       "      <th>First Record:</th>\n",
       "      <td>2nd millennium BC</td>\n",
       "    </tr>\n",
       "    <tr>\n",
       "      <th>Recorded By:</th>\n",
       "      <td>Egyptian astronomers</td>\n",
       "    </tr>\n",
       "  </tbody>\n",
       "</table>\n",
       "</div>"
      ],
      "text/plain": [
       "                                      Mars Fun Facts\n",
       "Equatorial Diameter:                      6,792 km\\n\n",
       "Polar Diameter:                           6,752 km\\n\n",
       "Mass:                  6.42 x 10^23 kg (10.7% Earth)\n",
       "Moons:                           2 (Phobos & Deimos)\n",
       "Orbit Distance:             227,943,824 km (1.52 AU)\n",
       "Orbit Period:                 687 days (1.9 years)\\n\n",
       "Surface Temperature:                   -153 to 20 °C\n",
       "First Record:                      2nd millennium BC\n",
       "Recorded By:                    Egyptian astronomers"
      ]
     },
     "execution_count": 13,
     "metadata": {},
     "output_type": "execute_result"
    }
   ],
   "source": [
    "# create a dictionary to hold the facts\n",
    "facts_dictionary = {}\n",
    "\n",
    "# get all the rows from facts and parse them into the dictionary\n",
    "facts = bs.find(marsFactsSoup, 'table', class_='tablepress tablepress-id-mars').find_all('tr')\n",
    "for fact in facts:\n",
    "    facts_dictionary[bs.find(fact, 'strong').get_text()] = (bs.find(fact, class_='column-2').get_text())\n",
    "\n",
    "# convert to Dataframe and to HTML table\n",
    "facts_df = pd.DataFrame.from_dict(facts_dictionary, orient='index')\n",
    "facts_df.rename(columns={0: 'Mars Fun Facts'}, inplace=True)\n",
    "facts_html = pd.DataFrame.to_html(facts_df)\n",
    "\n",
    "#print (facts_html)\n",
    "facts_df"
   ]
  },
  {
   "cell_type": "markdown",
   "metadata": {},
   "source": [
    "# Mars Hemispheres from Astrogeology site"
   ]
  },
  {
   "cell_type": "code",
   "execution_count": 14,
   "metadata": {},
   "outputs": [
    {
     "data": {
      "text/plain": [
       "[{'image_url': 'http://astropedia.astrogeology.usgs.gov/download/Mars/Viking/schiaparelli_enhanced.tif/full.jpg',\n",
       "  'title': 'Schiaparelli Hemisphere Enhanced'},\n",
       " {'image_url': 'http://astropedia.astrogeology.usgs.gov/download/Mars/Viking/syrtis_major_enhanced.tif/full.jpg',\n",
       "  'title': 'Syrtis Major Hemisphere Enhanced'},\n",
       " {'image_url': 'http://astropedia.astrogeology.usgs.gov/download/Mars/Viking/cerberus_enhanced.tif/full.jpg',\n",
       "  'title': 'Cerberus Hemisphere Enhanced'},\n",
       " {'image_url': 'http://astropedia.astrogeology.usgs.gov/download/Mars/Viking/valles_marineris_enhanced.tif/full.jpg',\n",
       "  'title': 'Valles Marineris Hemisphere Enhanced'}]"
      ]
     },
     "execution_count": 14,
     "metadata": {},
     "output_type": "execute_result"
    }
   ],
   "source": [
    "hemispheres_url = 'https://astrogeology.usgs.gov/search/results?q=hemisphere+enhanced&k1=target&v1=Mars'\n",
    "browser.visit(hemispheres_url)\n",
    "html = browser.html\n",
    "# Create BeautifulSoup object; parse with 'html.parser'\n",
    "hemispheresSoup = bs(html, 'html.parser')\n",
    "#print (webpageSoup)\n",
    "\n",
    "\n",
    "\n",
    "# first find all the links to the photo pages\n",
    "list_of_page_links = []\n",
    "page_links = bs.find_all(hemispheresSoup, 'a', class_='itemLink product-item')\n",
    "# used list comprehension again as opposed to a for loop for conciseness and readability\n",
    "[list_of_page_links.append(page.get('href')) for page in page_links]\n",
    "list_of_page_links = list(set(list_of_page_links))\n",
    "\n",
    "images_list = []\n",
    "\n",
    "# iterate through the list of page links and save the URL for full size images\n",
    "for link in list_of_page_links:\n",
    "    url = f'https://astrogeology.usgs.gov{link}' #using string literal allows us to us the same template for all items in the list\n",
    "    browser.visit(url)\n",
    "    html = browser.html\n",
    "    # Create BeautifulSoup object; parse with 'html.parser'\n",
    "    webpage = bs(html, 'html.parser')\n",
    "    \n",
    "    # get the title of the image\n",
    "    title = bs.find(webpage, 'h2', class_='title').get_text()\n",
    "    #print (title)\n",
    "    \n",
    "    # get the link for the full size image\n",
    "    downloads_section = bs.find(webpage, 'div', class_='downloads')\n",
    "    image_link = bs.find(downloads_section, 'a').get('href')\n",
    "    #print (image_link)\n",
    "    \n",
    "    # add the image title and url for full size image to dictionary; not sure why, but 'title' and 'image_url' print in reverse order\n",
    "    images_list.append({'title': title, 'image_url': image_link})\n",
    "    #print (images_list)\n",
    "\n",
    "#print (\"**\" * 10)\n",
    "\n",
    "images_list\n",
    "\n",
    "# attempted to put list items in a dataframe, but link didn't work for some reason out of the dataframe, not sure why :(\n",
    "# images_df = pd.DataFrame(images_list, columns=['title', 'image_url'])\n",
    "# images_df"
   ]
  },
  {
   "cell_type": "code",
   "execution_count": null,
   "metadata": {},
   "outputs": [],
   "source": []
  },
  {
   "cell_type": "code",
   "execution_count": null,
   "metadata": {},
   "outputs": [],
   "source": []
  }
 ],
 "metadata": {
  "kernelspec": {
   "display_name": "Python 3",
   "language": "python",
   "name": "python3"
  },
  "language_info": {
   "codemirror_mode": {
    "name": "ipython",
    "version": 3
   },
   "file_extension": ".py",
   "mimetype": "text/x-python",
   "name": "python",
   "nbconvert_exporter": "python",
   "pygments_lexer": "ipython3",
   "version": "3.6.4"
  }
 },
 "nbformat": 4,
 "nbformat_minor": 2
}
